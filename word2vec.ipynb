{
  "nbformat": 4,
  "nbformat_minor": 0,
  "metadata": {
    "colab": {
      "provenance": [],
      "authorship_tag": "ABX9TyMYbnd1mwtKAhLHYo2st8Km",
      "include_colab_link": true
    },
    "kernelspec": {
      "name": "python3",
      "display_name": "Python 3"
    },
    "language_info": {
      "name": "python"
    }
  },
  "cells": [
    {
      "cell_type": "markdown",
      "metadata": {
        "id": "view-in-github",
        "colab_type": "text"
      },
      "source": [
        "<a href=\"https://colab.research.google.com/github/mingyung-park/NLP_STUDY/blob/main/word2vec.ipynb\" target=\"_parent\"><img src=\"https://colab.research.google.com/assets/colab-badge.svg\" alt=\"Open In Colab\"/></a>"
      ]
    },
    {
      "cell_type": "code",
      "source": [
        "!pip install gensim"
      ],
      "metadata": {
        "colab": {
          "base_uri": "https://localhost:8080/"
        },
        "id": "l6g8Aebhy_5M",
        "outputId": "588020a1-8732-4aa1-c5f9-3d6d6e450e87"
      },
      "execution_count": 2,
      "outputs": [
        {
          "output_type": "stream",
          "name": "stdout",
          "text": [
            "Requirement already satisfied: gensim in /usr/local/lib/python3.10/dist-packages (4.3.3)\n",
            "Requirement already satisfied: numpy<2.0,>=1.18.5 in /usr/local/lib/python3.10/dist-packages (from gensim) (1.26.4)\n",
            "Requirement already satisfied: scipy<1.14.0,>=1.7.0 in /usr/local/lib/python3.10/dist-packages (from gensim) (1.13.1)\n",
            "Requirement already satisfied: smart-open>=1.8.1 in /usr/local/lib/python3.10/dist-packages (from gensim) (7.0.4)\n",
            "Requirement already satisfied: wrapt in /usr/local/lib/python3.10/dist-packages (from smart-open>=1.8.1->gensim) (1.16.0)\n"
          ]
        }
      ]
    },
    {
      "cell_type": "code",
      "source": [
        "import gensim.downloader as api"
      ],
      "metadata": {
        "id": "AXG9q2AY3My-"
      },
      "execution_count": 4,
      "outputs": []
    },
    {
      "cell_type": "code",
      "execution_count": 5,
      "metadata": {
        "colab": {
          "base_uri": "https://localhost:8080/"
        },
        "id": "w-SjYC6P3GmK",
        "outputId": "79cf3ec6-f531-4f86-cd61-9d179c5186dd"
      },
      "outputs": [
        {
          "output_type": "stream",
          "name": "stdout",
          "text": [
            "[==================================================] 100.0% 1662.8/1662.8MB downloaded\n"
          ]
        }
      ],
      "source": [
        "wv = api.load('word2vec-google-news-300')"
      ]
    },
    {
      "cell_type": "code",
      "source": [
        "for index, word in enumerate(wv.index_to_key):\n",
        "  if(index==10):\n",
        "    break\n",
        "  print(f'index:{index} word:{word}')"
      ],
      "metadata": {
        "colab": {
          "base_uri": "https://localhost:8080/"
        },
        "id": "0ZI3Ug-wzLXD",
        "outputId": "79ebf4cd-738e-40bf-853d-1cd8fd1fec8c"
      },
      "execution_count": 6,
      "outputs": [
        {
          "output_type": "stream",
          "name": "stdout",
          "text": [
            "index:0 word:</s>\n",
            "index:1 word:in\n",
            "index:2 word:for\n",
            "index:3 word:that\n",
            "index:4 word:is\n",
            "index:5 word:on\n",
            "index:6 word:##\n",
            "index:7 word:The\n",
            "index:8 word:with\n",
            "index:9 word:said\n"
          ]
        }
      ]
    },
    {
      "cell_type": "code",
      "source": [
        "vocab = 'apple'\n",
        "wv_vocab = wv[vocab]\n",
        "print(wv_vocab.shape)"
      ],
      "metadata": {
        "colab": {
          "base_uri": "https://localhost:8080/"
        },
        "id": "op9Ml3qKznJE",
        "outputId": "0f929414-8d35-40fa-9dfe-0953af42b93e"
      },
      "execution_count": 11,
      "outputs": [
        {
          "output_type": "stream",
          "name": "stdout",
          "text": [
            "(300,)\n"
          ]
        }
      ]
    },
    {
      "cell_type": "code",
      "source": [
        "oov = 'skjghfkr'\n",
        "try:\n",
        "  wv_oov = wv[oov]\n",
        "\n",
        "except KeyError:\n",
        "  print(f'{oov} is OOV')"
      ],
      "metadata": {
        "colab": {
          "base_uri": "https://localhost:8080/"
        },
        "id": "KILzekUKz5sY",
        "outputId": "4e006e7f-bfb8-4ab2-f5a7-c8662ed6e48f"
      },
      "execution_count": 8,
      "outputs": [
        {
          "output_type": "stream",
          "name": "stdout",
          "text": [
            "skjghfkr is OOV\n"
          ]
        }
      ]
    },
    {
      "cell_type": "code",
      "source": [
        "#calc simularity btw pairs\n",
        "pairs=[\n",
        "    ('apple','IT'),\n",
        "    ('apple','banana'),\n",
        "    ('apple','bottle'),\n",
        "    ('apple', 'cereal')\n",
        "]\n",
        "\n",
        "for w1,w2 in pairs:\n",
        "  print(f'{w1} {w2} similarity : {wv.similarity(w1,w2)}')"
      ],
      "metadata": {
        "colab": {
          "base_uri": "https://localhost:8080/"
        },
        "id": "H4fKfz6y0gyV",
        "outputId": "c4222d5e-4836-4f4f-a8aa-920346485e68"
      },
      "execution_count": 9,
      "outputs": [
        {
          "output_type": "stream",
          "name": "stdout",
          "text": [
            "apple IT similarity : 0.08104052394628525\n",
            "apple banana similarity : 0.5318406224250793\n",
            "apple bottle similarity : 0.24007560312747955\n",
            "apple cereal similarity : 0.38754022121429443\n"
          ]
        }
      ]
    },
    {
      "cell_type": "code",
      "source": [
        "wv.most_similar(positive=['king','woman'],negative =['man'])"
      ],
      "metadata": {
        "colab": {
          "base_uri": "https://localhost:8080/"
        },
        "id": "HAnuJ2q81DxY",
        "outputId": "a7c24ac0-0ade-4b81-e1c3-d8dc81198935"
      },
      "execution_count": 10,
      "outputs": [
        {
          "output_type": "execute_result",
          "data": {
            "text/plain": [
              "[('queen', 0.7118193507194519),\n",
              " ('monarch', 0.6189674139022827),\n",
              " ('princess', 0.5902431011199951),\n",
              " ('crown_prince', 0.5499460697174072),\n",
              " ('prince', 0.5377321839332581),\n",
              " ('kings', 0.5236844420433044),\n",
              " ('Queen_Consort', 0.5235945582389832),\n",
              " ('queens', 0.5181134343147278),\n",
              " ('sultan', 0.5098593831062317),\n",
              " ('monarchy', 0.5087411999702454)]"
            ]
          },
          "metadata": {},
          "execution_count": 10
        }
      ]
    },
    {
      "cell_type": "code",
      "source": [],
      "metadata": {
        "id": "pwMMCyco1SRZ"
      },
      "execution_count": null,
      "outputs": []
    }
  ]
}